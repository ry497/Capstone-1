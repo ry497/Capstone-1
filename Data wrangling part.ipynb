{
 "cells": [
  {
   "cell_type": "markdown",
   "metadata": {},
   "source": [
    "# Capstone project 1\n",
    "Data wrangling"
   ]
  },
  {
   "cell_type": "markdown",
   "metadata": {},
   "source": [
    "This is a short document describing the data wrangling steps that I undertook to clean the capstone project data set. What kind of cleaning steps did you perform? How did you deal with missing values, if any? Were there outliers, and how did you decide to handle them? This document will eventually become part of your milestone report."
   ]
  },
  {
   "cell_type": "markdown",
   "metadata": {},
   "source": [
    "The dataset I chose to work with was obtained from kaggle.\n",
    "### Background"
   ]
  },
  {
   "cell_type": "markdown",
   "metadata": {},
   "source": [
    "Living around the NYC area for a while, I’ve seen a lot of different traffic situations. Narrow streets and complicated traffic rules, as well as unreasonable traffic light durations and fearless pedestrians maybe all contributing to the vehicle collisions in NYC. Based on this dataset it’s possible to find out the most dangerous locations in 5 boroughs, the relations between number of collisions and time of a day (since there’re morning and evening peaks in a city like New York) or a year (due to influence of weather). "
   ]
  },
  {
   "cell_type": "code",
   "execution_count": 48,
   "metadata": {
    "collapsed": true
   },
   "outputs": [],
   "source": [
    "import numpy as np\n",
    "import pandas as pd\n",
    "import matplotlib.pyplot as plt\n",
    "import scipy.stats\n",
    "from datetime import datetime\n",
    "import seaborn as sns\n",
    "sns.set()"
   ]
  },
  {
   "cell_type": "code",
   "execution_count": 49,
   "metadata": {
    "collapsed": true
   },
   "outputs": [],
   "source": [
    "df=pd.read_csv('NYC.csv')"
   ]
  },
  {
   "cell_type": "markdown",
   "metadata": {},
   "source": [
    "Visually inspect the dataset first"
   ]
  },
  {
   "cell_type": "code",
   "execution_count": 50,
   "metadata": {},
   "outputs": [
    {
     "data": {
      "text/plain": [
       "(477732, 29)"
      ]
     },
     "execution_count": 50,
     "metadata": {},
     "output_type": "execute_result"
    }
   ],
   "source": [
    "df.shape"
   ]
  },
  {
   "cell_type": "code",
   "execution_count": 51,
   "metadata": {
    "scrolled": true
   },
   "outputs": [
    {
     "data": {
      "text/plain": [
       "Index(['UNIQUE KEY', 'DATE', 'TIME', 'BOROUGH', 'ZIP CODE', 'LATITUDE',\n",
       "       'LONGITUDE', 'LOCATION', 'ON STREET NAME', 'CROSS STREET NAME',\n",
       "       'OFF STREET NAME', 'PERSONS INJURED', 'PERSONS KILLED',\n",
       "       'PEDESTRIANS INJURED', 'PEDESTRIANS KILLED', 'CYCLISTS INJURED',\n",
       "       'CYCLISTS KILLED', 'MOTORISTS INJURED', 'MOTORISTS KILLED',\n",
       "       'VEHICLE 1 TYPE', 'VEHICLE 2 TYPE', 'VEHICLE 3 TYPE', 'VEHICLE 4 TYPE',\n",
       "       'VEHICLE 5 TYPE', 'VEHICLE 1 FACTOR', 'VEHICLE 2 FACTOR',\n",
       "       'VEHICLE 3 FACTOR', 'VEHICLE 4 FACTOR', 'VEHICLE 5 FACTOR'],\n",
       "      dtype='object')"
      ]
     },
     "execution_count": 51,
     "metadata": {},
     "output_type": "execute_result"
    }
   ],
   "source": [
    "df.columns"
   ]
  },
  {
   "cell_type": "code",
   "execution_count": 52,
   "metadata": {},
   "outputs": [
    {
     "name": "stdout",
     "output_type": "stream",
     "text": [
      "<class 'pandas.core.frame.DataFrame'>\n",
      "RangeIndex: 477732 entries, 0 to 477731\n",
      "Data columns (total 29 columns):\n",
      "UNIQUE KEY             477732 non-null int64\n",
      "DATE                   477732 non-null object\n",
      "TIME                   477732 non-null object\n",
      "BOROUGH                338390 non-null object\n",
      "ZIP CODE               338329 non-null float64\n",
      "LATITUDE               356600 non-null float64\n",
      "LONGITUDE              356600 non-null float64\n",
      "LOCATION               356600 non-null object\n",
      "ON STREET NAME         364552 non-null object\n",
      "CROSS STREET NAME      335574 non-null object\n",
      "OFF STREET NAME        58511 non-null object\n",
      "PERSONS INJURED        477732 non-null int64\n",
      "PERSONS KILLED         477732 non-null int64\n",
      "PEDESTRIANS INJURED    477732 non-null int64\n",
      "PEDESTRIANS KILLED     477732 non-null int64\n",
      "CYCLISTS INJURED       477732 non-null int64\n",
      "CYCLISTS KILLED        477732 non-null int64\n",
      "MOTORISTS INJURED      477732 non-null int64\n",
      "MOTORISTS KILLED       477732 non-null int64\n",
      "VEHICLE 1 TYPE         473777 non-null object\n",
      "VEHICLE 2 TYPE         396795 non-null object\n",
      "VEHICLE 3 TYPE         30264 non-null object\n",
      "VEHICLE 4 TYPE         6831 non-null object\n",
      "VEHICLE 5 TYPE         1683 non-null object\n",
      "VEHICLE 1 FACTOR       474483 non-null object\n",
      "VEHICLE 2 FACTOR       415401 non-null object\n",
      "VEHICLE 3 FACTOR       31638 non-null object\n",
      "VEHICLE 4 FACTOR       7232 non-null object\n",
      "VEHICLE 5 FACTOR       1762 non-null object\n",
      "dtypes: float64(3), int64(9), object(17)\n",
      "memory usage: 105.7+ MB\n"
     ]
    }
   ],
   "source": [
    "df.info()"
   ]
  },
  {
   "cell_type": "code",
   "execution_count": null,
   "metadata": {
    "collapsed": true
   },
   "outputs": [],
   "source": []
  },
  {
   "cell_type": "code",
   "execution_count": 54,
   "metadata": {
    "collapsed": true
   },
   "outputs": [],
   "source": [
    "#Convert column headers to lowercase so it's easier to type\n",
    "df.columns = [x.lower() for x in df.columns]"
   ]
  },
  {
   "cell_type": "code",
   "execution_count": 55,
   "metadata": {},
   "outputs": [
    {
     "data": {
      "text/plain": [
       "NaN              139342\n",
       "BROOKLYN         104961\n",
       "QUEENS            89655\n",
       "MANHATTAN         83602\n",
       "BRONX             46124\n",
       "STATEN ISLAND     14048\n",
       "Name: borough, dtype: int64"
      ]
     },
     "execution_count": 55,
     "metadata": {},
     "output_type": "execute_result"
    }
   ],
   "source": [
    "df.borough.value_counts(dropna=False)"
   ]
  },
  {
   "cell_type": "markdown",
   "metadata": {},
   "source": [
    "I really thought Manhattan would have the biggest number of collisions since it's more crowded in my mind. Given this count number it's actually Brooklyn, and even queens is going beyond Manhattan."
   ]
  },
  {
   "cell_type": "markdown",
   "metadata": {},
   "source": [
    "We've seen date and time in column names, it's neccessary to convert them into ISO standard if they're not."
   ]
  },
  {
   "cell_type": "code",
   "execution_count": 7,
   "metadata": {},
   "outputs": [
    {
     "data": {
      "text/plain": [
       "0   2015-01-01 00:20:00\n",
       "1   2015-01-01 00:20:00\n",
       "2   2015-01-01 00:21:00\n",
       "3   2015-01-01 00:30:00\n",
       "4   2015-01-01 00:33:00\n",
       "dtype: datetime64[ns]"
      ]
     },
     "execution_count": 7,
     "metadata": {},
     "output_type": "execute_result"
    }
   ],
   "source": [
    "datetime=pd.to_datetime(df.date+' '+df.time)\n",
    "datetime.head()\n"
   ]
  },
  {
   "cell_type": "code",
   "execution_count": 27,
   "metadata": {
    "collapsed": true
   },
   "outputs": [],
   "source": [
    "#Look for null values in each column\n",
    "null=df.isnull().sum()\n",
    "#I decide to remove columns with over 90% null value here\n",
    "remove=null[null>(0.9*len(df))]\n",
    "#remove parameters for vehicle 3,4,5\n",
    "del df['vehicle 3 type']\n",
    "del df['vehicle 4 type']\n",
    "del df['vehicle 5 type']\n",
    "del df['vehicle 3 factor']\n",
    "del df['vehicle 4 factor']\n",
    "del df['vehicle 5 factor']\n"
   ]
  },
  {
   "cell_type": "code",
   "execution_count": 45,
   "metadata": {},
   "outputs": [
    {
     "data": {
      "text/plain": [
       "(477732, 21)"
      ]
     },
     "execution_count": 45,
     "metadata": {},
     "output_type": "execute_result"
    }
   ],
   "source": [
    "df.shape"
   ]
  },
  {
   "cell_type": "markdown",
   "metadata": {},
   "source": [
    "Drop duplicate data if there's any"
   ]
  },
  {
   "cell_type": "code",
   "execution_count": 44,
   "metadata": {
    "collapsed": true
   },
   "outputs": [],
   "source": [
    "df=df.drop_duplicates()"
   ]
  },
  {
   "cell_type": "code",
   "execution_count": 46,
   "metadata": {},
   "outputs": [
    {
     "data": {
      "text/plain": [
       "(477732, 21)"
      ]
     },
     "execution_count": 46,
     "metadata": {},
     "output_type": "execute_result"
    }
   ],
   "source": [
    "df.shape"
   ]
  },
  {
   "cell_type": "markdown",
   "metadata": {},
   "source": [
    "Oh good, looks like there is no duplicate data. So we're continuing for outliers."
   ]
  },
  {
   "cell_type": "code",
   "execution_count": 60,
   "metadata": {},
   "outputs": [
    {
     "data": {
      "text/html": [
       "<div>\n",
       "<style>\n",
       "    .dataframe thead tr:only-child th {\n",
       "        text-align: right;\n",
       "    }\n",
       "\n",
       "    .dataframe thead th {\n",
       "        text-align: left;\n",
       "    }\n",
       "\n",
       "    .dataframe tbody tr th {\n",
       "        vertical-align: top;\n",
       "    }\n",
       "</style>\n",
       "<table border=\"1\" class=\"dataframe\">\n",
       "  <thead>\n",
       "    <tr style=\"text-align: right;\">\n",
       "      <th></th>\n",
       "      <th>persons killed</th>\n",
       "      <th>persons injured</th>\n",
       "    </tr>\n",
       "  </thead>\n",
       "  <tbody>\n",
       "    <tr>\n",
       "      <th>count</th>\n",
       "      <td>477732.000000</td>\n",
       "      <td>477732.000000</td>\n",
       "    </tr>\n",
       "    <tr>\n",
       "      <th>mean</th>\n",
       "      <td>0.001059</td>\n",
       "      <td>0.247875</td>\n",
       "    </tr>\n",
       "    <tr>\n",
       "      <th>std</th>\n",
       "      <td>0.034037</td>\n",
       "      <td>0.644326</td>\n",
       "    </tr>\n",
       "    <tr>\n",
       "      <th>min</th>\n",
       "      <td>0.000000</td>\n",
       "      <td>0.000000</td>\n",
       "    </tr>\n",
       "    <tr>\n",
       "      <th>25%</th>\n",
       "      <td>0.000000</td>\n",
       "      <td>0.000000</td>\n",
       "    </tr>\n",
       "    <tr>\n",
       "      <th>50%</th>\n",
       "      <td>0.000000</td>\n",
       "      <td>0.000000</td>\n",
       "    </tr>\n",
       "    <tr>\n",
       "      <th>75%</th>\n",
       "      <td>0.000000</td>\n",
       "      <td>0.000000</td>\n",
       "    </tr>\n",
       "    <tr>\n",
       "      <th>max</th>\n",
       "      <td>3.000000</td>\n",
       "      <td>32.000000</td>\n",
       "    </tr>\n",
       "  </tbody>\n",
       "</table>\n",
       "</div>"
      ],
      "text/plain": [
       "       persons killed  persons injured\n",
       "count   477732.000000    477732.000000\n",
       "mean         0.001059         0.247875\n",
       "std          0.034037         0.644326\n",
       "min          0.000000         0.000000\n",
       "25%          0.000000         0.000000\n",
       "50%          0.000000         0.000000\n",
       "75%          0.000000         0.000000\n",
       "max          3.000000        32.000000"
      ]
     },
     "execution_count": 60,
     "metadata": {},
     "output_type": "execute_result"
    }
   ],
   "source": [
    "df[['persons killed','persons injured']].describe()"
   ]
  },
  {
   "cell_type": "code",
   "execution_count": 31,
   "metadata": {},
   "outputs": [
    {
     "data": {
      "image/png": "[encoded data removed]",
      "text/plain": [
       "<matplotlib.figure.Figure at 0x1a187a3390>"
      ]
     },
     "metadata": {},
     "output_type": "display_data"
    }
   ],
   "source": [
    "#Run heatmap for numerical columns to see how they're related\n",
    "col_corr =df.corr()\n",
    "sns.heatmap(col_corr)\n",
    "plt.title('Heatmap of Correlation Matrix')\n",
    "plt.show()"
   ]
  },
  {
   "cell_type": "code",
   "execution_count": 42,
   "metadata": {
    "collapsed": true
   },
   "outputs": [],
   "source": []
  },
  {
   "cell_type": "code",
   "execution_count": null,
   "metadata": {
    "collapsed": true
   },
   "outputs": [],
   "source": []
  },
  {
   "cell_type": "code",
   "execution_count": null,
   "metadata": {
    "collapsed": true
   },
   "outputs": [],
   "source": []
  }
 ],
 "metadata": {
  "kernelspec": {
   "display_name": "Python 3",
   "language": "python",
   "name": "python3"
  },
  "language_info": {
   "codemirror_mode": {
    "name": "ipython",
    "version": 3
   },
   "file_extension": ".py",
   "mimetype": "text/x-python",
   "name": "python",
   "nbconvert_exporter": "python",
   "pygments_lexer": "ipython3",
   "version": "3.6.3"
  }
 },
 "nbformat": 4,
 "nbformat_minor": 2
}
